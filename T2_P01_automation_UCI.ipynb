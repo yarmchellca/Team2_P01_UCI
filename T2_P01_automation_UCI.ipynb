{
 "cells": [
  {
   "cell_type": "markdown",
   "id": "fa4a6b05",
   "metadata": {},
   "source": [
    "# Data collection & Preparation"
   ]
  },
  {
   "cell_type": "markdown",
   "id": "2a730abb",
   "metadata": {},
   "source": [
    "# 1.Import python package"
   ]
  },
  {
   "cell_type": "code",
   "execution_count": 10,
   "id": "590443ea",
   "metadata": {},
   "outputs": [],
   "source": [
    "import pandas as pd\n",
    "import numpy as np\n",
    "import os\n",
    "file_path='C:/Business_Data_Analysis/data/'"
   ]
  },
  {
   "cell_type": "code",
   "execution_count": 11,
   "id": "ddfebd60",
   "metadata": {},
   "outputs": [
    {
     "name": "stdout",
     "output_type": "stream",
     "text": [
      "Requirement already satisfied: pypandoc in c:\\users\\86189\\appdata\\roaming\\python\\python39\\site-packages (1.8.1)\n",
      "Note: you may need to restart the kernel to use updated packages.\n"
     ]
    }
   ],
   "source": [
    "%pip install pypandoc --user"
   ]
  },
  {
   "cell_type": "markdown",
   "id": "2a09588a",
   "metadata": {},
   "source": [
    "# 2. Establish connection to database"
   ]
  },
  {
   "cell_type": "code",
   "execution_count": 12,
   "id": "3253d1b3",
   "metadata": {},
   "outputs": [],
   "source": [
    "import pyodbc\n",
    "import urllib\n",
    "import sqlalchemy\n",
    "\n",
    "'''sources databases'''\n",
    "params_p = urllib.parse.quote_plus(\"DRIVER={SQL Server Native Client 11.0};\"\n",
    "                                  \"SERVER=localhost\\SQLEXPRESS;\"\n",
    "                                  \"DATABASE=DataWarehouse1;\"\n",
    "                                  \"UID=sa;\"\n",
    "                                  \"PWD=user1\")\n",
    "\n",
    "engine_p = sqlalchemy.create_engine(\"mssql+pyodbc:///?odbc_connect={}\".format(params_p))\n",
    "\n",
    "params_s = urllib.parse.quote_plus(\"DRIVER={SQL Server Native Client 11.0};\"\n",
    "                                  \"SERVER=localhost\\SQLEXPRESS;\"\n",
    "                                  \"DATABASE=DataWarehouse2;\"\n",
    "                                  \"UID=sa;\"\n",
    "                                  \"PWD=user1\")\n",
    "\n",
    "engine_s = sqlalchemy.create_engine(\"mssql+pyodbc:///?odbc_connect={}\".format(params_s))\n",
    "\n",
    "'''destination databases'''\n",
    "\n",
    "params_datahub = urllib.parse.quote_plus(\"DRIVER={SQL Server Native Client 11.0};\"\n",
    "                                  \"SERVER=localhost\\SQLEXPRESS;\"\n",
    "                                  \"DATABASE=datahub;\"\n",
    "                                  \"UID=sa;\"\n",
    "                                  \"PWD=user1\")\n",
    "\n",
    "engine_datahub = sqlalchemy.create_engine(\"mssql+pyodbc:///?odbc_connect={}\".format(params_datahub))"
   ]
  },
  {
   "cell_type": "markdown",
   "id": "71daaba6",
   "metadata": {},
   "source": [
    "# 3. Back up your data"
   ]
  },
  {
   "cell_type": "code",
   "execution_count": 13,
   "id": "9be31402",
   "metadata": {},
   "outputs": [],
   "source": [
    "# '''get historical data from source database'''\n",
    "# df_sales_p=pd.read_excel('sales_data_primary',engine_p)\n",
    "\n",
    "# from datetime import datetime\n",
    "# dateTimeObj = datetime.now()\n",
    "# timestampStr = dateTimeObj.strftime('%d-%m-%Y-%H-%M-%S')\n",
    "# print('Current Timestamp:',timestampStr)\n",
    "\n",
    "# df_sales_p.to_csv(file_path+'data/sales_data_primary_backup_'+timestampStr+'.csv',index=False)"
   ]
  },
  {
   "cell_type": "markdown",
   "id": "57ca3759",
   "metadata": {},
   "source": [
    "# 4. ETL data to datahub"
   ]
  },
  {
   "cell_type": "code",
   "execution_count": 30,
   "id": "9daac0c8",
   "metadata": {},
   "outputs": [],
   "source": [
    "df_UCI=pd.read_excel(file_path+'UCI Case Data.xlsx')\n",
    "df_UCI.to_sql('UCI',engine_datahub,if_exists='replace',index=False)"
   ]
  },
  {
   "cell_type": "code",
   "execution_count": 39,
   "id": "5b8cb633",
   "metadata": {},
   "outputs": [
    {
     "data": {
      "text/plain": [
       "(624, 16)"
      ]
     },
     "execution_count": 39,
     "metadata": {},
     "output_type": "execute_result"
    }
   ],
   "source": [
    "df_UCI.shape"
   ]
  },
  {
   "cell_type": "markdown",
   "id": "6dda624c",
   "metadata": {},
   "source": [
    "# i. Append new data to historical data"
   ]
  },
  {
   "cell_type": "markdown",
   "id": "333e3058",
   "metadata": {},
   "source": [
    "Using Python"
   ]
  },
  {
   "cell_type": "code",
   "execution_count": 40,
   "id": "e06742f7",
   "metadata": {
    "scrolled": true
   },
   "outputs": [],
   "source": [
    "from datetime import datetime\n",
    "\n",
    "'''get new data'''\n",
    "df_T2UCI_new=pd.read_excel(file_path+'UCI Case Data_new.xlsx')"
   ]
  },
  {
   "cell_type": "code",
   "execution_count": 41,
   "id": "f9652b7a",
   "metadata": {},
   "outputs": [
    {
     "data": {
      "text/plain": [
       "(24, 16)"
      ]
     },
     "execution_count": 41,
     "metadata": {},
     "output_type": "execute_result"
    }
   ],
   "source": [
    "df_T2UCI_new.shape"
   ]
  },
  {
   "cell_type": "code",
   "execution_count": 42,
   "id": "666b0de9",
   "metadata": {},
   "outputs": [],
   "source": [
    "'''get historical data from source database'''\n",
    "df_UCI=pd.read_sql('UCI',engine_datahub)"
   ]
  },
  {
   "cell_type": "code",
   "execution_count": 43,
   "id": "09e69622",
   "metadata": {},
   "outputs": [
    {
     "data": {
      "text/plain": [
       "(624, 16)"
      ]
     },
     "execution_count": 43,
     "metadata": {},
     "output_type": "execute_result"
    }
   ],
   "source": [
    "df_UCI.shape"
   ]
  },
  {
   "cell_type": "code",
   "execution_count": 44,
   "id": "e7412535",
   "metadata": {},
   "outputs": [],
   "source": [
    "'''append new data to historical data'''\n",
    "df_UCI=pd.concat([df_UCI,df_T2UCI_new])"
   ]
  },
  {
   "cell_type": "code",
   "execution_count": 45,
   "id": "b9255e67",
   "metadata": {},
   "outputs": [
    {
     "data": {
      "text/plain": [
       "(648, 16)"
      ]
     },
     "execution_count": 45,
     "metadata": {},
     "output_type": "execute_result"
    }
   ],
   "source": [
    "df_UCI.shape"
   ]
  },
  {
   "cell_type": "code",
   "execution_count": 46,
   "id": "911b4696",
   "metadata": {},
   "outputs": [],
   "source": [
    "'''drop duplicate'''\n",
    "df_UCI.drop_duplicates(keep='first', inplace=True)"
   ]
  },
  {
   "cell_type": "code",
   "execution_count": 47,
   "id": "e399c2a7",
   "metadata": {},
   "outputs": [
    {
     "data": {
      "text/plain": [
       "(648, 16)"
      ]
     },
     "execution_count": 47,
     "metadata": {},
     "output_type": "execute_result"
    }
   ],
   "source": [
    "df_UCI.shape"
   ]
  },
  {
   "cell_type": "markdown",
   "id": "35e844ce",
   "metadata": {},
   "source": [
    "# ii. Check data"
   ]
  },
  {
   "cell_type": "code",
   "execution_count": 48,
   "id": "a1787403",
   "metadata": {},
   "outputs": [
    {
     "data": {
      "text/plain": [
       "((24, 16), (648, 16))"
      ]
     },
     "execution_count": 48,
     "metadata": {},
     "output_type": "execute_result"
    }
   ],
   "source": [
    "df_T2UCI_new.shape,df_UCI.shape"
   ]
  },
  {
   "cell_type": "markdown",
   "id": "aff8502b",
   "metadata": {},
   "source": [
    "# iii. Export updated historical data to datebase"
   ]
  },
  {
   "cell_type": "code",
   "execution_count": 49,
   "id": "5a8432b5",
   "metadata": {},
   "outputs": [],
   "source": [
    "df_UCI.to_sql('UCI',engine_datahub,if_exists='replace',index=False)"
   ]
  },
  {
   "cell_type": "code",
   "execution_count": null,
   "id": "9c6c5a1f",
   "metadata": {},
   "outputs": [],
   "source": []
  }
 ],
 "metadata": {
  "kernelspec": {
   "display_name": "Python 3 (ipykernel)",
   "language": "python",
   "name": "python3"
  },
  "language_info": {
   "codemirror_mode": {
    "name": "ipython",
    "version": 3
   },
   "file_extension": ".py",
   "mimetype": "text/x-python",
   "name": "python",
   "nbconvert_exporter": "python",
   "pygments_lexer": "ipython3",
   "version": "3.9.7"
  }
 },
 "nbformat": 4,
 "nbformat_minor": 5
}
